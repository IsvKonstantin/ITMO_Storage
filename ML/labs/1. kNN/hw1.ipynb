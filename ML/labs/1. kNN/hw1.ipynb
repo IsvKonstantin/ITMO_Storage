{
 "cells": [
  {
   "cell_type": "code",
   "execution_count": 1,
   "metadata": {
    "scrolled": true
   },
   "outputs": [
    {
     "data": {
      "text/html": [
       "   <div id=\"kvOVJH\"></div>\n",
       "   <script type=\"text/javascript\" data-lets-plot-script=\"library\">\n",
       "       if(!window.letsPlotCallQueue) {\n",
       "           window.letsPlotCallQueue = [];\n",
       "       }; \n",
       "       window.letsPlotCall = function(f) {\n",
       "           window.letsPlotCallQueue.push(f);\n",
       "       };\n",
       "       (function() {\n",
       "           var script = document.createElement(\"script\");\n",
       "           script.type = \"text/javascript\";\n",
       "           script.src = \"https://dl.bintray.com/jetbrains/lets-plot/lets-plot-1.5.2.min.js\";\n",
       "           script.onload = function() {\n",
       "               window.letsPlotCall = function(f) {f();};\n",
       "               window.letsPlotCallQueue.forEach(function(f) {f();});\n",
       "               window.letsPlotCallQueue = [];\n",
       "               \n",
       "               \n",
       "           };\n",
       "           script.onerror = function(event) {\n",
       "               window.letsPlotCall = function(f) {};\n",
       "               window.letsPlotCallQueue = [];\n",
       "               var div = document.createElement(\"div\");\n",
       "               div.style.color = 'darkred';\n",
       "               div.textContent = 'Error loading Lets-Plot JS';\n",
       "               document.getElementById(\"kvOVJH\").appendChild(div);\n",
       "           };\n",
       "           var e = document.getElementById(\"kvOVJH\");\n",
       "           e.appendChild(script);\n",
       "       })();\n",
       "   </script>"
      ]
     },
     "metadata": {},
     "output_type": "display_data"
    }
   ],
   "source": [
    "%use kotlin-statistics, krangl, lets-plot, numpy"
   ]
  },
  {
   "cell_type": "code",
   "execution_count": 2,
   "metadata": {},
   "outputs": [],
   "source": [
    "fun DataCol.toDoubleList(): List<Double> {\n",
    "    return this.asDoubles().toList().filterNotNull()\n",
    "}\n",
    "\n",
    "fun DataCol.toIntList(): List<Int> {\n",
    "    return this.asInts().toList().filterNotNull()\n",
    "}\n",
    "\n",
    "fun DataFrameRow.toDoubleList(): List<Double> {\n",
    "    return this.values.mapNotNull {(it as Double)}\n",
    "}\n",
    "\n",
    "fun DataFrameRow.toIntList(): List<Int> {\n",
    "     return this.values.mapNotNull {(it as Int)}\n",
    "}"
   ]
  },
  {
   "cell_type": "code",
   "execution_count": 3,
   "metadata": {},
   "outputs": [],
   "source": [
    " enum class Distance(val itemName: String, val calc: (a: List<Double>, b: List<Double>) -> Double) {\n",
    "        MANHATTAN(\"manhattan\", { a, b -> a.zip(b).map { abs(it.first - it.second) }.sum() }),\n",
    "        EUCLIDEAN(\n",
    "            \"euclidean\",\n",
    "            { a, b ->\n",
    "                a.zip(b).map { (it.first - it.second) * (it.first - it.second) }.sum().let { sqrt(it) }\n",
    "            }\n",
    "        ),\n",
    "        CHEBYSHEV(\"chebyshev\", { a, b -> a.zip(b).map { abs(it.first - it.second) }.max()!! })\n",
    "    }\n",
    "\n",
    "enum class Kernel(val itemName: String, val calc: (u: Double) -> Double) {\n",
    "    UNIFORM(\"uniform\", { u -> if (abs(u) < 1.0) 1.0 / 2 else 0.0 }),\n",
    "    TRIANGULAR(\"triangular\", { u -> if (abs(u) < 1.0) 1.0 - abs(u) else 0.0 }),\n",
    "    EPANECHNIKOV(\"epanechnikov\", { u -> if (abs(u) < 1.0) 3.0 / 4 * (1 - abs(u * u)) else 0.0 }),\n",
    "    QUARTIC(\"quartic\", { u -> if (abs(u) < 1.0) 15.0 / 16 * (1 - u * u) * (1 - u * u) else 0.0 }),\n",
    "    TRIWEIGHT(\"triweight\", { u -> if (abs(u) < 1.0) 35.0 / 32 * (1 - u * u).pow(3) else 0.0 }),\n",
    "    TRICUBE(\"tricube\", { u -> if (abs(u) < 1.0) 70.0 / 81 * (1 - abs(u).pow(3)).pow(3) else 0.0 }),\n",
    "    GAUSSIAN(\"gaussian\", { u -> 1.0 / sqrt(2.0 * PI) * E.pow(-1.0 / 2 * u * u) }),\n",
    "    COSINE(\"cosine\", { u -> if (abs(u) < 1.0) PI / 4.0 * cos(PI / 2 * u) else 0.0 }),\n",
    "    LOGISTIC(\"logistic\", { u -> 1.0 / (E.pow(u) + 2 + E.pow(-u)) }),\n",
    "    SIGMOID(\"sigmoid\", { u -> 2.0 / PI / (E.pow(u) + E.pow(-u)) })\n",
    "}\n",
    "\n",
    "enum class Window(val itemName: String) {\n",
    "    FIXED(\"fixed\"),\n",
    "    VARIABLE(\"variable\")\n",
    "}\n",
    "\n",
    "enum class Transform {\n",
    "    NAIVE, ONEHOT\n",
    "}\n",
    "\n",
    "class ConfInfo(\n",
    "        var tp: Int = 0,\n",
    "        var fp: Int = 0,\n",
    "        var fn: Int = 0,\n",
    "        var tn: Int = 0,\n",
    "        var cnt: Int = 0,\n",
    "        var prec: Double = 0.0,\n",
    "        var recall: Double = 0.0,\n",
    "        var fSc: Double = 0.0\n",
    " )"
   ]
  },
  {
   "cell_type": "code",
   "execution_count": 4,
   "metadata": {},
   "outputs": [
    {
     "data": {
      "text/html": [
       "<html><body><table><tr><th style=\"text-align:left\">V1</th><th style=\"text-align:left\">V2</th><th style=\"text-align:left\">V3</th><th style=\"text-align:left\">V4</th><th style=\"text-align:left\">V5</th><th style=\"text-align:left\">V6</th><th style=\"text-align:left\">V7</th><th style=\"text-align:left\">Class</th></tr><tr><td style=\"text-align:left\" title=\"15.26\">15.26</td><td style=\"text-align:left\" title=\"14.84\">14.84</td><td style=\"text-align:left\" title=\"0.871\">0.871</td><td style=\"text-align:left\" title=\"5.763\">5.763</td><td style=\"text-align:left\" title=\"3.312\">3.312</td><td style=\"text-align:left\" title=\"2.221\">2.221</td><td style=\"text-align:left\" title=\"5.22\">5.22</td><td style=\"text-align:left\" title=\"1\">1</td></tr><tr><td style=\"text-align:left\" title=\"14.88\">14.88</td><td style=\"text-align:left\" title=\"14.57\">14.57</td><td style=\"text-align:left\" title=\"0.8811\">0.8811</td><td style=\"text-align:left\" title=\"5.554\">5.554</td><td style=\"text-align:left\" title=\"3.333\">3.333</td><td style=\"text-align:left\" title=\"1.018\">1.018</td><td style=\"text-align:left\" title=\"4.956\">4.956</td><td style=\"text-align:left\" title=\"1\">1</td></tr><tr><td style=\"text-align:left\" title=\"14.29\">14.29</td><td style=\"text-align:left\" title=\"14.09\">14.09</td><td style=\"text-align:left\" title=\"0.905\">0.905</td><td style=\"text-align:left\" title=\"5.291\">5.291</td><td style=\"text-align:left\" title=\"3.337\">3.337</td><td style=\"text-align:left\" title=\"2.699\">2.699</td><td style=\"text-align:left\" title=\"4.825\">4.825</td><td style=\"text-align:left\" title=\"1\">1</td></tr><tr><td style=\"text-align:left\" title=\"13.84\">13.84</td><td style=\"text-align:left\" title=\"13.94\">13.94</td><td style=\"text-align:left\" title=\"0.8955\">0.8955</td><td style=\"text-align:left\" title=\"5.324\">5.324</td><td style=\"text-align:left\" title=\"3.379\">3.379</td><td style=\"text-align:left\" title=\"2.259\">2.259</td><td style=\"text-align:left\" title=\"4.805\">4.805</td><td style=\"text-align:left\" title=\"1\">1</td></tr><tr><td style=\"text-align:left\" title=\"16.14\">16.14</td><td style=\"text-align:left\" title=\"14.99\">14.99</td><td style=\"text-align:left\" title=\"0.9034\">0.9034</td><td style=\"text-align:left\" title=\"5.658\">5.658</td><td style=\"text-align:left\" title=\"3.562\">3.562</td><td style=\"text-align:left\" title=\"1.355\">1.355</td><td style=\"text-align:left\" title=\"5.175\">5.175</td><td style=\"text-align:left\" title=\"1\">1</td></tr></table></body></html>"
      ]
     },
     "execution_count": 4,
     "metadata": {},
     "output_type": "execute_result"
    }
   ],
   "source": [
    "val df = DataFrame.readCSV(\"res/data3.csv\")\n",
    "val features = df.remove(\"Class\")\n",
    "val classes = df.get(\"Class\").toIntList().map {it - 1}\n",
    "df.head()"
   ]
  },
  {
   "cell_type": "code",
   "execution_count": 5,
   "metadata": {
    "scrolled": true
   },
   "outputs": [
    {
     "data": {
      "text/html": [
       "<html><body><table><tr><th style=\"text-align:left\">Class</th><th style=\"text-align:left\">n</th></tr><tr><td style=\"text-align:left\" title=\"1\">1</td><td style=\"text-align:left\" title=\"70\">70</td></tr><tr><td style=\"text-align:left\" title=\"2\">2</td><td style=\"text-align:left\" title=\"70\">70</td></tr><tr><td style=\"text-align:left\" title=\"3\">3</td><td style=\"text-align:left\" title=\"70\">70</td></tr></table></body></html>"
      ]
     },
     "execution_count": 5,
     "metadata": {},
     "output_type": "execute_result"
    }
   ],
   "source": [
    "val classCount = df.count(\"Class\").get(\"Class\").length\n",
    "df.count(\"Class\")"
   ]
  },
  {
   "cell_type": "code",
   "execution_count": 6,
   "metadata": {
    "scrolled": true
   },
   "outputs": [
    {
     "data": {
      "text/html": [
       "<html><body><table><tr><th style=\"text-align:left\">V1</th><th style=\"text-align:left\">V2</th><th style=\"text-align:left\">V3</th><th style=\"text-align:left\">V4</th><th style=\"text-align:left\">V5</th><th style=\"text-align:left\">V6</th><th style=\"text-align:left\">V7</th></tr><tr><td style=\"text-align:left\" title=\"0.14209776917528874\">0.14209776917528874</td><td style=\"text-align:left\" title=\"0.21546243681050198\">0.21546243681050198</td><td style=\"text-align:left\" title=\"6.0601791846313676E-5\">6.0601791846313676E-5</td><td style=\"text-align:left\" title=\"0.30421819931739674\">0.30421819931739674</td><td style=\"text-align:left\" title=\"0.14170182312773183\">0.14170182312773183</td><td style=\"text-align:left\" title=\"-0.9861517446709449\">-0.9861517446709449</td><td style=\"text-align:left\" title=\"-0.3835774230126888\">-0.3835774230126888</td></tr><tr><td style=\"text-align:left\" title=\"0.011188025695859164\">0.011188025695859164</td><td style=\"text-align:left\" title=\"0.008223757130169521\">0.008223757130169521</td><td style=\"text-align:left\" title=\"0.42851527013772023\">0.42851527013772023</td><td style=\"text-align:left\" title=\"-0.16862466377633195\">-0.16862466377633195</td><td style=\"text-align:left\" title=\"0.1974322289061418\">0.1974322289061418</td><td style=\"text-align:left\" title=\"-1.7881662018206577\">-1.7881662018206577</td><td style=\"text-align:left\" title=\"-0.9220134866112045\">-0.9220134866112045</td></tr><tr><td style=\"text-align:left\" title=\"-0.19206657602220364\">-0.19206657602220364</td><td style=\"text-align:left\" title=\"-0.3602005623015335\">-0.3602005623015335</td><td style=\"text-align:left\" title=\"1.4423832477086511\">1.4423832477086511</td><td style=\"text-align:left\" title=\"-0.7636374532196373\">-0.7636374532196373</td><td style=\"text-align:left\" title=\"0.20804754429250544\">0.20804754429250544</td><td style=\"text-align:left\" title=\"-0.6674793336006519\">-0.6674793336006519</td><td style=\"text-align:left\" title=\"-1.1891919878665298\">-1.1891919878665298</td></tr><tr><td style=\"text-align:left\" title=\"-0.3470912722478441\">-0.3470912722478441</td><td style=\"text-align:left\" title=\"-0.4753331621239409\">-0.4753331621239409</td><td style=\"text-align:left\" title=\"1.039381331937777\">1.039381331937777</td><td style=\"text-align:left\" title=\"-0.6889780537837865\">-0.6889780537837865</td><td style=\"text-align:left\" title=\"0.319508355849323\">0.319508355849323</td><td style=\"text-align:left\" title=\"-0.960817954669541\">-0.960817954669541</td><td style=\"text-align:left\" title=\"-1.2299825987452062\">-1.2299825987452062</td></tr><tr><td style=\"text-align:left\" title=\"0.445257175127653\">0.445257175127653</td><td style=\"text-align:left\" title=\"0.33059503663290934\">0.33059503663290934</td><td style=\"text-align:left\" title=\"1.3745092408419761\">1.3745092408419761</td><td style=\"text-align:left\" title=\"0.06666556474877769\">0.06666556474877769</td><td style=\"text-align:left\" title=\"0.8051590347754584\">0.8051590347754584</td><td style=\"text-align:left\" title=\"-1.5634954852292584\">-1.5634954852292584</td><td style=\"text-align:left\" title=\"-0.47535629748970865\">-0.47535629748970865</td></tr></table></body></html>"
      ]
     },
     "execution_count": 6,
     "metadata": {},
     "output_type": "execute_result"
    }
   ],
   "source": [
    "val means = features.cols.map {it.mean()}\n",
    "val sds = features.cols.map {it.sd()}\n",
    "\n",
    "val dataNorm = features.addColumns(\n",
    "    *features.cols.mapIndexed { i, c -> \n",
    "        c.name to {(c - means[i]!!) / sds[i]!! }\n",
    "    }.toTypedArray()\n",
    ")\n",
    "val dataMatrix = dataNorm.rows.map {it.toDoubleList()}.toList()\n",
    "dataNorm.head()"
   ]
  },
  {
   "cell_type": "code",
   "execution_count": 7,
   "metadata": {},
   "outputs": [],
   "source": [
    "fun predictClass(distanceParam: Distance, \n",
    "                 kernelParam: Kernel,\n",
    "                 windowParam: Window,\n",
    "                 windowParamValue: Double,\n",
    "                 transformParam: Transform,\n",
    "                 train: List<List<Double>>, \n",
    "                 classes: List<Int>,\n",
    "                 target: List<Double>): Int {\n",
    "    \n",
    "    val sortedData = train.map {\n",
    "        distanceParam.calc.invoke(it, target)\n",
    "    }.zip(classes).sortedBy{ it.first }\n",
    "    val windowDivider = if (windowParam == Window.VARIABLE) {\n",
    "        sortedData[windowParamValue.toInt()].first\n",
    "    } else {\n",
    "        windowParamValue\n",
    "    }\n",
    "    val kernelRes = sortedData.map { kernelParam.calc.invoke(it.first / windowDivider) }\n",
    "    var res = 0.0\n",
    "    if (kernelRes.sum() == 0.0) {\n",
    "        res = sortedData.map { it.second }.average()\n",
    "    } else {\n",
    "        when(transformParam) {\n",
    "            Transform.NAIVE -> {\n",
    "                res = sortedData.zip(kernelRes).map { it.first.second * it.second }.sum() / kernelRes.sum()\n",
    "            }\n",
    "            else -> {\n",
    "                val resArray = DoubleArray(classCount)\n",
    "                for(i in sortedData.indices) {\n",
    "                    resArray[sortedData[i].second] = resArray[sortedData[i].second] + kernelRes[i]\n",
    "                }\n",
    "                res = resArray.indices.maxBy{resArray[it]}!!.toDouble()\n",
    "            }\n",
    "        }\n",
    "    }\n",
    "    return res.roundToInt()\n",
    "}\n",
    "\n",
    "fun getConfMatrix(distanceParam: Distance, \n",
    "                  kernelParam: Kernel,\n",
    "                  windowParam: Window,\n",
    "                  windowParamValue: Double,\n",
    "                  transformParam: Transform): Array<IntArray> {\n",
    "    val matrix = Array(classCount) {IntArray(classCount)}\n",
    "    for (i in dataMatrix.indices) {\n",
    "        val targetData = dataMatrix[i]\n",
    "        val targetClass = classes[i]\n",
    "        val trainData = dataMatrix.filterIndexed {ind, v -> ind != i}\n",
    "        val trainClasses = classes.filterIndexed {ind, v -> ind != i}\n",
    "        val predictedClass = predictClass(\n",
    "            distanceParam,\n",
    "            kernelParam,\n",
    "            windowParam,\n",
    "            windowParamValue,\n",
    "            transformParam,\n",
    "            trainData,\n",
    "            trainClasses,\n",
    "            targetData\n",
    "        )\n",
    "        matrix[targetClass][predictedClass] += 1\n",
    "    }\n",
    "    return matrix\n",
    "}\n",
    "\n",
    "fun getFScore(confMatrix: Array<IntArray>): Double {\n",
    "    val k = confMatrix.size\n",
    "    val infos = Array(k) { ConfInfo() }\n",
    "    var all = 0\n",
    "    for (i in 0 until k) {\n",
    "        for (j in 0 until k) {\n",
    "            val cur = confMatrix[i][j]\n",
    "            all += cur\n",
    "            infos[i].cnt += cur\n",
    "            if (i == j) {\n",
    "                infos[i].tp = cur\n",
    "            } else {\n",
    "                infos[i].fp += cur\n",
    "                infos[j].fn += cur\n",
    "            }\n",
    "        }\n",
    "    }\n",
    "    infos.forEach {\n",
    "        it.tn = all - it.fp - it.fn - it.tp\n",
    "        it.recall = if (it.tp + it.fn != 0) it.tp.toDouble() / (it.tp + it.fn) else 0.0\n",
    "        it.prec = if (it.tp + it.fp != 0) it.tp.toDouble() / (it.tp + it.fp) else 0.0\n",
    "        it.fSc = if (it.recall + it.prec != 0.0) 2 * it.recall * it.prec / (it.recall + it.prec) else 0.0\n",
    "    }\n",
    "    val macroF = infos.map { it.fSc * it.cnt }.sum() / all\n",
    "\n",
    "    val microPrec = infos.map { it.prec * it.cnt }.sum() / all\n",
    "    val microRecall = infos.map { it.recall * it.cnt }.sum() / all\n",
    "    val microF =\n",
    "        if (microPrec + microRecall != 0.0) 2 * microPrec * microRecall / (microPrec + microRecall) else 0.0\n",
    "    return microF\n",
    "}\n",
    "\n",
    "val variableWindowPoints = (1..100).toList().map { it.toDouble() }\n",
    "val fixedWindowPoints = (1..100).toList().map { it.toDouble() / 10.0 }"
   ]
  },
  {
   "cell_type": "code",
   "execution_count": 8,
   "metadata": {},
   "outputs": [
    {
     "name": "stdout",
     "output_type": "stream",
     "text": [
      "EUCLIDEAN\r\n",
      "UNIFORM\r\n",
      "VARIABLE\r\n",
      "1.0\r\n",
      "0.9385535656861208\r\n"
     ]
    }
   ],
   "source": [
    "fun processNaive(distanceParam: Distance,\n",
    "            kernelParam: Kernel,\n",
    "            windowParam: Window,\n",
    "            windowParamValue: Double) {\n",
    "    val confMatrix = getConfMatrix(distanceParam, kernelParam, windowParam, windowParamValue, Transform.NAIVE)\n",
    "    val fScore = getFScore(confMatrix)\n",
    "    if (fScore > bestNaiveFScore) {\n",
    "        bestNaiveDistance = distanceParam\n",
    "        bestNaiveKernel = kernelParam\n",
    "        bestNaiveWindow = windowParam\n",
    "        bestNaiveWindowValue = windowParamValue\n",
    "        bestNaiveFScore = fScore\n",
    "    }\n",
    "}\n",
    "\n",
    "var bestNaiveDistance: Distance? = null\n",
    "var bestNaiveKernel: Kernel? = null\n",
    "var bestNaiveWindow: Window? = null\n",
    "var bestNaiveWindowValue: Double? = null\n",
    "var bestNaiveFScore: Double = -1.0\n",
    "\n",
    "for(distance in Distance.values()) {\n",
    "    for(kernel in Kernel.values()) {\n",
    "        for (k in variableWindowPoints) {\n",
    "            processNaive(distance, kernel, Window.VARIABLE, k)\n",
    "        }\n",
    "        for (k in fixedWindowPoints) {\n",
    "            processNaive(distance, kernel, Window.FIXED, k)\n",
    "        }\n",
    "    }\n",
    "}\n",
    "\n",
    "println(bestNaiveDistance)\n",
    "println(bestNaiveKernel)\n",
    "println(bestNaiveWindow)\n",
    "println(bestNaiveWindowValue)\n",
    "println(bestNaiveFScore)"
   ]
  },
  {
   "cell_type": "code",
   "execution_count": 9,
   "metadata": {},
   "outputs": [
    {
     "data": {
      "text/html": [
       "   <div id=\"S6RThk\"></div>\n",
       "   <script type=\"text/javascript\" data-lets-plot-script=\"plot\">\n",
       "       (function() {\n",
       "           var plotSpec={\n",
       "'mapping':{\n",
       "'x':\"window_size\",\n",
       "'y':\"fScore\"\n",
       "},\n",
       "'data':{\n",
       "'window_size':[1.0,2.0,3.0,4.0,5.0,6.0,7.0,8.0,9.0,10.0,11.0,12.0,13.0,14.0,15.0,16.0,17.0,18.0,19.0,20.0,21.0,22.0,23.0,24.0,25.0,26.0,27.0,28.0,29.0,30.0,31.0,32.0,33.0,34.0,35.0,36.0,37.0,38.0,39.0,40.0,41.0,42.0,43.0,44.0,45.0,46.0,47.0,48.0,49.0,50.0,51.0,52.0,53.0,54.0,55.0,56.0,57.0,58.0,59.0,60.0,61.0,62.0,63.0,64.0,65.0,66.0,67.0,68.0,69.0,70.0,71.0,72.0,73.0,74.0,75.0,76.0,77.0,78.0,79.0,80.0,81.0,82.0,83.0,84.0,85.0,86.0,87.0,88.0,89.0,90.0,91.0,92.0,93.0,94.0,95.0,96.0,97.0,98.0,99.0,100.0],\n",
       "'fScore':[0.9385535656861208,0.8916273019785035,0.8570203527165055,0.8834881334836786,0.8939479362345745,0.8938991277879943,0.8776619276964122,0.879315921871599,0.8804413319510938,0.8688155042398266,0.870116256309671,0.884268270414962,0.877810293601683,0.8633455234141729,0.8539226196236339,0.8571527257344405,0.870017961585749,0.8674184535401515,0.8631646971426771,0.8672978634268957,0.8605086838518523,0.8581303842402161,0.8543298385473169,0.857949686713776,0.8631925993861064,0.8631925993861064,0.8556988194177768,0.8594343231808411,0.8594343231808411,0.8556988194177768,0.8559062849771751,0.8619537447725613,0.8487993482212632,0.8464430250710984,0.8427444447292207,0.8539043060879925,0.8539043060879925,0.8517687364385483,0.8424887597516748,0.8437107370015803,0.8424887597516748,0.846185051440124,0.8409781052621017,0.8476112844146955,0.8380832194061766,0.8378053282837306,0.8399073425934516,0.8400563406711935,0.8439357224220281,0.8439357224220281,0.8346698904406535,0.8346698904406535,0.8241927443663316,0.8312541719547538,0.8218645410399696,0.8289190481368522,0.821535876795732,0.8237384787752169,0.8237384787752169,0.8200177128398806,0.8164834018839854,0.8114548922981817,0.8117256738260303,0.8149523873843453,0.8010086027884901,0.79393875592276,0.7904823212289346,0.797248890535108,0.786888427661741,0.782292294928318,0.7753345717860257,0.782069034776177,0.782069034776177,0.77197141129103,0.7686102449059732,0.7611777407444509,0.7650225621548165,0.7547155836460595,0.7549507635565947,0.750584375485401,0.7544687472327289,0.7470207730194162,0.7405203569468046,0.725872691115199,0.7228287801525008,0.6978706882458722,0.6276467195203591,0.6273136720593449,0.6196669588080631,0.5930264137391844,0.44073832274912467,0.43445802711238996,0.4312513056193858,0.40323467525824813,0.4107506447672051,0.3992872613323912,0.3992872613323912,0.3908902691511386,0.386367516332483,0.386367516332483]\n",
       "},\n",
       "'kind':\"plot\",\n",
       "'scales':[],\n",
       "'layers':[{\n",
       "'stat':\"identity\",\n",
       "'mapping':{\n",
       "},\n",
       "'data':{\n",
       "},\n",
       "'position':\"identity\",\n",
       "'geom':\"path\"\n",
       "}]\n",
       "};\n",
       "           var plotContainer = document.getElementById(\"S6RThk\");\n",
       "           window.letsPlotCall(function() {{\n",
       "               LetsPlot.buildPlotFromProcessedSpecs(plotSpec, -1, -1, plotContainer);\n",
       "           }});\n",
       "       })();    \n",
       "   </script>"
      ]
     },
     "execution_count": 9,
     "metadata": {},
     "output_type": "execute_result"
    }
   ],
   "source": [
    "val windowValues = when (bestNaiveWindow) {\n",
    "    Window.FIXED -> fixedWindowPoints\n",
    "    else -> variableWindowPoints\n",
    "}\n",
    "val fScores = ArrayList<Double>()\n",
    "for(v in windowValues) {\n",
    "    val confMatrix = getConfMatrix(bestNaiveDistance!!, bestNaiveKernel!!, bestNaiveWindow!!, v, Transform.NAIVE)\n",
    "    fScores.add(getFScore(confMatrix))\n",
    "}\n",
    "val plotData = mapOf<String, Any>(\n",
    "    \"fScore\" to fScores,\n",
    "    \"window_size\" to windowValues\n",
    ")\n",
    "lets_plot(plotData) {x = \"window_size\"; y = \"fScore\"} + geom_path()"
   ]
  },
  {
   "cell_type": "code",
   "execution_count": 10,
   "metadata": {},
   "outputs": [
    {
     "name": "stdout",
     "output_type": "stream",
     "text": [
      "MANHATTAN\r\n",
      "LOGISTIC\r\n",
      "FIXED\r\n",
      "0.3\r\n",
      "0.9433150970083531\r\n"
     ]
    }
   ],
   "source": [
    "fun processOneHot(distanceParam: Distance,\n",
    "            kernelParam: Kernel,\n",
    "            windowParam: Window,\n",
    "            windowParamValue: Double) {\n",
    "    val confMatrix = getConfMatrix(distanceParam, kernelParam, windowParam, windowParamValue, Transform.ONEHOT)\n",
    "    val fScore = getFScore(confMatrix)\n",
    "    if (fScore > bestOneHotFScore) {\n",
    "        bestOneHotDistance = distanceParam\n",
    "        bestOneHotKernel = kernelParam\n",
    "        bestOneHotWindow = windowParam\n",
    "        bestOneHotWindowValue = windowParamValue\n",
    "        bestOneHotFScore = fScore\n",
    "    }\n",
    "}\n",
    "\n",
    "var bestOneHotDistance: Distance? = null\n",
    "var bestOneHotKernel: Kernel? = null\n",
    "var bestOneHotWindow: Window? = null\n",
    "var bestOneHotWindowValue: Double? = null\n",
    "var bestOneHotFScore: Double = -1.0\n",
    "\n",
    "for(distance in Distance.values()) {\n",
    "    for(kernel in Kernel.values()) {\n",
    "        for (k in variableWindowPoints) {\n",
    "            processOneHot(distance, kernel, Window.VARIABLE, k)\n",
    "        }\n",
    "        for (k in fixedWindowPoints) {\n",
    "            processOneHot(distance, kernel, Window.FIXED, k)\n",
    "        }\n",
    "    }\n",
    "}\n",
    "\n",
    "println(bestOneHotDistance)\n",
    "println(bestOneHotKernel)\n",
    "println(bestOneHotWindow)\n",
    "println(bestOneHotWindowValue)\n",
    "println(bestOneHotFScore)"
   ]
  },
  {
   "cell_type": "code",
   "execution_count": 11,
   "metadata": {},
   "outputs": [
    {
     "data": {
      "text/html": [
       "   <div id=\"b48JUO\"></div>\n",
       "   <script type=\"text/javascript\" data-lets-plot-script=\"plot\">\n",
       "       (function() {\n",
       "           var plotSpec={\n",
       "'mapping':{\n",
       "'x':\"window_size\",\n",
       "'y':\"fScore\"\n",
       "},\n",
       "'data':{\n",
       "'window_size':[0.1,0.2,0.3,0.4,0.5,0.6,0.7,0.8,0.9,1.0,1.1,1.2,1.3,1.4,1.5,1.6,1.7,1.8,1.9,2.0,2.1,2.2,2.3,2.4,2.5,2.6,2.7,2.8,2.9,3.0,3.1,3.2,3.3,3.4,3.5,3.6,3.7,3.8,3.9,4.0,4.1,4.2,4.3,4.4,4.5,4.6,4.7,4.8,4.9,5.0,5.1,5.2,5.3,5.4,5.5,5.6,5.7,5.8,5.9,6.0,6.1,6.2,6.3,6.4,6.5,6.6,6.7,6.8,6.9,7.0,7.1,7.2,7.3,7.4,7.5,7.6,7.7,7.8,7.9,8.0,8.1,8.2,8.3,8.4,8.5,8.6,8.7,8.8,8.9,9.0,9.1,9.2,9.3,9.4,9.5,9.6,9.7,9.8,9.9,10.0],\n",
       "'fScore':[0.9245336790192583,0.9338518198465114,0.9433150970083531,0.9382354208054663,0.9332995191572656,0.9332995191572656,0.9240638272493807,0.9240638272493807,0.9192185274300996,0.9192185274300996,0.9146380220852951,0.9146380220852951,0.9148269659689502,0.9148269659689502,0.9148269659689502,0.9101490107109476,0.9101490107109476,0.9101490107109476,0.9101490107109476,0.9101490107109476,0.9101490107109476,0.9101490107109476,0.9055580849092717,0.9055580849092717,0.9055580849092717,0.9055580849092717,0.9055580849092717,0.9055580849092717,0.9055580849092717,0.9055580849092717,0.9055580849092717,0.9055580849092717,0.9055580849092717,0.9055580849092717,0.9004889508846634,0.9004889508846634,0.9004889508846634,0.9004889508846634,0.9004889508846634,0.9004889508846634,0.9004889508846634,0.8957837339154487,0.8957837339154487,0.8957837339154487,0.8957837339154487,0.8957837339154487,0.8957837339154487,0.8957837339154487,0.8957837339154487,0.8957837339154487,0.8957837339154487,0.8957837339154487,0.8957837339154487,0.8911411971293645,0.8911411971293645,0.8911411971293645,0.8911411971293645,0.8911411971293645,0.8911411971293645,0.8911411971293645,0.8911411971293645,0.8911411971293645,0.8911411971293645,0.8911411971293645,0.8911411971293645,0.8911411971293645,0.8911411971293645,0.8911411971293645,0.8911411971293645,0.8911411971293645,0.8911411971293645,0.8911411971293645,0.8911411971293645,0.8865238458937984,0.8865238458937984,0.8865238458937984,0.8865238458937984,0.8865238458937984,0.8865238458937984,0.8865238458937984,0.8865238458937984,0.8813804344829489,0.8813804344829489,0.8813804344829489,0.8813804344829489,0.8813804344829489,0.8767118662665806,0.8767118662665806,0.8767118662665806,0.8767118662665806,0.8767118662665806,0.8719526901154219,0.8719526901154219,0.8719526901154219,0.8719526901154219,0.8719526901154219,0.8719526901154219,0.8719526901154219,0.8719526901154219,0.8719526901154219]\n",
       "},\n",
       "'kind':\"plot\",\n",
       "'scales':[],\n",
       "'layers':[{\n",
       "'stat':\"identity\",\n",
       "'mapping':{\n",
       "},\n",
       "'data':{\n",
       "},\n",
       "'position':\"identity\",\n",
       "'geom':\"path\"\n",
       "}]\n",
       "};\n",
       "           var plotContainer = document.getElementById(\"b48JUO\");\n",
       "           window.letsPlotCall(function() {{\n",
       "               LetsPlot.buildPlotFromProcessedSpecs(plotSpec, -1, -1, plotContainer);\n",
       "           }});\n",
       "       })();    \n",
       "   </script>"
      ]
     },
     "execution_count": 11,
     "metadata": {},
     "output_type": "execute_result"
    }
   ],
   "source": [
    "val windowValues = when (bestOneHotWindow) {\n",
    "    Window.FIXED -> fixedWindowPoints\n",
    "    else -> variableWindowPoints\n",
    "}\n",
    "val fScores = ArrayList<Double>()\n",
    "for(v in windowValues) {\n",
    "    val confMatrix = getConfMatrix(bestOneHotDistance!!, bestOneHotKernel!!, bestOneHotWindow!!, v, Transform.ONEHOT)\n",
    "    fScores.add(getFScore(confMatrix))\n",
    "}\n",
    "val plotData = mapOf<String, Any>(\n",
    "    \"fScore\" to fScores,\n",
    "    \"window_size\" to windowValues\n",
    ")\n",
    "lets_plot(plotData) {x = \"window_size\"; y = \"fScore\"} + geom_path()"
   ]
  },
  {
   "cell_type": "code",
   "execution_count": null,
   "metadata": {},
   "outputs": [],
   "source": []
  }
 ],
 "metadata": {
  "celltoolbar": "Необработанный формат ячейки",
  "kernelspec": {
   "display_name": "Kotlin",
   "language": "kotlin",
   "name": "kotlin"
  },
  "language_info": {
   "codemirror_mode": "text/x-kotlin",
   "file_extension": ".kt",
   "mimetype": "text/x-kotlin",
   "name": "kotlin",
   "pygments_lexer": "kotlin",
   "version": "1.4.20-dev-2342"
  }
 },
 "nbformat": 4,
 "nbformat_minor": 4
}
